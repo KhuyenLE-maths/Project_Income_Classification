{
  "nbformat": 4,
  "nbformat_minor": 0,
  "metadata": {
    "colab": {
      "name": "notebook.ipynb",
      "provenance": [],
      "collapsed_sections": [],
      "machine_shape": "hm",
      "include_colab_link": true
    },
    "kernelspec": {
      "display_name": "Python 3",
      "language": "python",
      "name": "python3"
    },
    "language_info": {
      "codemirror_mode": {
        "name": "ipython",
        "version": 3
      },
      "file_extension": ".py",
      "mimetype": "text/x-python",
      "name": "python",
      "nbconvert_exporter": "python",
      "pygments_lexer": "ipython3",
      "version": "3.8.5"
    },
    "accelerator": "GPU"
  },
  "cells": [
    {
      "cell_type": "markdown",
      "metadata": {
        "id": "view-in-github",
        "colab_type": "text"
      },
      "source": [
        "<a href=\"https://colab.research.google.com/github/KhuyenLE-maths/Project_Income_Classification/blob/main/notebook.ipynb\" target=\"_parent\"><img src=\"https://colab.research.google.com/assets/colab-badge.svg\" alt=\"Open In Colab\"/></a>"
      ]
    },
    {
      "cell_type": "markdown",
      "metadata": {
        "id": "yMX_bYzM1ptP"
      },
      "source": [
        "## Content\n",
        "I. Data preparation\n",
        "\n",
        "II. Data extracting and cleaning\n",
        "- Check the duplicated rows\n",
        "- Missing values\n",
        "- Outliers\n",
        "\n",
        "III. Exploratory data analysis\n",
        "\n",
        "IV. Data preprocessing\n",
        "\n",
        "V. PCA\n",
        "\n",
        "VI. Deploy Machine learning models for classifying data\n",
        " \n",
        " ---------------------------------------------------------------\n"
      ]
    },
    {
      "cell_type": "code",
      "metadata": {
        "id": "8YnNG4gT1WBB",
        "colab": {
          "base_uri": "https://localhost:8080/"
        },
        "outputId": "dfd22780-46da-470b-e21f-e720a5bd5f34"
      },
      "source": [
        "from google.colab import drive\n",
        "drive.mount('/content/drive/')"
      ],
      "execution_count": 94,
      "outputs": [
        {
          "output_type": "stream",
          "name": "stdout",
          "text": [
            "Drive already mounted at /content/drive/; to attempt to forcibly remount, call drive.mount(\"/content/drive/\", force_remount=True).\n"
          ]
        }
      ]
    },
    {
      "cell_type": "code",
      "metadata": {
        "id": "4pyVcBLgLXyM",
        "colab": {
          "base_uri": "https://localhost:8080/"
        },
        "outputId": "1dc8770a-5549-4bca-f9c2-0e381645f731"
      },
      "source": [
        "import os\n",
        "os.chdir('/content/drive/MyDrive/Competitions/Income_classification/')\n",
        "os.listdir()"
      ],
      "execution_count": 95,
      "outputs": [
        {
          "output_type": "execute_result",
          "data": {
            "text/plain": [
              "['kaggle.json',\n",
              " 'Dataset',\n",
              " 'train.csv',\n",
              " 'Untitled0.ipynb',\n",
              " 'pca_plot_tools.py',\n",
              " 'notebook_ver0.ipynb',\n",
              " 'Classif_rst',\n",
              " '__pycache__',\n",
              " 'catboost_info',\n",
              " 'Untitled1.ipynb',\n",
              " 'notebook.ipynb',\n",
              " 'notebook.html']"
            ]
          },
          "metadata": {},
          "execution_count": 95
        }
      ]
    },
    {
      "cell_type": "code",
      "metadata": {
        "id": "IM7Lu49C1XY3"
      },
      "source": [
        "import numpy as np\n",
        "import pandas as pd\n",
        "import matplotlib.pyplot as plt\n",
        "import seaborn as sns\n",
        "from termcolor import colored"
      ],
      "execution_count": 96,
      "outputs": []
    },
    {
      "cell_type": "markdown",
      "metadata": {
        "id": "5EDK8TeU2khb"
      },
      "source": [
        "## I. Data preparation"
      ]
    },
    {
      "cell_type": "code",
      "metadata": {
        "id": "hp7b6UH31Xa5"
      },
      "source": [
        "data_path = 'Dataset/'"
      ],
      "execution_count": 97,
      "outputs": []
    },
    {
      "cell_type": "code",
      "metadata": {
        "id": "vPoYR6E51XdS",
        "colab": {
          "base_uri": "https://localhost:8080/"
        },
        "outputId": "db560e34-8ef0-4371-903e-13fedf4f8236"
      },
      "source": [
        "os.listdir(data_path)"
      ],
      "execution_count": 98,
      "outputs": [
        {
          "output_type": "execute_result",
          "data": {
            "text/plain": [
              "['test.csv', 'train.csv.zip', 'sample_submission.csv']"
            ]
          },
          "metadata": {},
          "execution_count": 98
        }
      ]
    },
    {
      "cell_type": "code",
      "metadata": {
        "id": "KZ0zRwcg1XiO"
      },
      "source": [
        "df_train = pd.read_csv(data_path + 'train.csv.zip')\n",
        "df_test = pd.read_csv(data_path + 'test.csv')"
      ],
      "execution_count": 99,
      "outputs": []
    },
    {
      "cell_type": "code",
      "metadata": {
        "id": "uNT4VnOX1XlD",
        "colab": {
          "base_uri": "https://localhost:8080/",
          "height": 275
        },
        "outputId": "291440db-a02c-4651-eeed-c32e15e5aaeb"
      },
      "source": [
        "df_train.head()"
      ],
      "execution_count": 100,
      "outputs": [
        {
          "output_type": "execute_result",
          "data": {
            "text/html": [
              "<div>\n",
              "<style scoped>\n",
              "    .dataframe tbody tr th:only-of-type {\n",
              "        vertical-align: middle;\n",
              "    }\n",
              "\n",
              "    .dataframe tbody tr th {\n",
              "        vertical-align: top;\n",
              "    }\n",
              "\n",
              "    .dataframe thead th {\n",
              "        text-align: right;\n",
              "    }\n",
              "</style>\n",
              "<table border=\"1\" class=\"dataframe\">\n",
              "  <thead>\n",
              "    <tr style=\"text-align: right;\">\n",
              "      <th></th>\n",
              "      <th>ID</th>\n",
              "      <th>age</th>\n",
              "      <th>work_type</th>\n",
              "      <th>final_weight</th>\n",
              "      <th>education</th>\n",
              "      <th>total_education_yrs</th>\n",
              "      <th>marital_state</th>\n",
              "      <th>job</th>\n",
              "      <th>status</th>\n",
              "      <th>ethnicity</th>\n",
              "      <th>sex</th>\n",
              "      <th>capital_gain</th>\n",
              "      <th>capital_loss</th>\n",
              "      <th>hrs_per_week</th>\n",
              "      <th>nationality</th>\n",
              "      <th>target_income</th>\n",
              "    </tr>\n",
              "  </thead>\n",
              "  <tbody>\n",
              "    <tr>\n",
              "      <th>0</th>\n",
              "      <td>0</td>\n",
              "      <td>45</td>\n",
              "      <td>Private</td>\n",
              "      <td>175925</td>\n",
              "      <td>HS-grad</td>\n",
              "      <td>9</td>\n",
              "      <td>Married-civ-spouse</td>\n",
              "      <td>Craft-repair</td>\n",
              "      <td>Husband</td>\n",
              "      <td>White</td>\n",
              "      <td>M</td>\n",
              "      <td>0</td>\n",
              "      <td>0</td>\n",
              "      <td>40</td>\n",
              "      <td>US</td>\n",
              "      <td>0</td>\n",
              "    </tr>\n",
              "    <tr>\n",
              "      <th>1</th>\n",
              "      <td>1</td>\n",
              "      <td>23</td>\n",
              "      <td>Private</td>\n",
              "      <td>113601</td>\n",
              "      <td>Some-college</td>\n",
              "      <td>10</td>\n",
              "      <td>Never-married</td>\n",
              "      <td>Handlers-cleaners</td>\n",
              "      <td>Own-child</td>\n",
              "      <td>White</td>\n",
              "      <td>M</td>\n",
              "      <td>0</td>\n",
              "      <td>0</td>\n",
              "      <td>30</td>\n",
              "      <td>US</td>\n",
              "      <td>0</td>\n",
              "    </tr>\n",
              "    <tr>\n",
              "      <th>2</th>\n",
              "      <td>2</td>\n",
              "      <td>22</td>\n",
              "      <td>Private</td>\n",
              "      <td>112137</td>\n",
              "      <td>Some-college</td>\n",
              "      <td>10</td>\n",
              "      <td>Never-married</td>\n",
              "      <td>Prof-specialty</td>\n",
              "      <td>Other-relative</td>\n",
              "      <td>Asian-Pac-Islander</td>\n",
              "      <td>F</td>\n",
              "      <td>0</td>\n",
              "      <td>0</td>\n",
              "      <td>20</td>\n",
              "      <td>South</td>\n",
              "      <td>0</td>\n",
              "    </tr>\n",
              "    <tr>\n",
              "      <th>3</th>\n",
              "      <td>3</td>\n",
              "      <td>27</td>\n",
              "      <td>Private</td>\n",
              "      <td>153078</td>\n",
              "      <td>Prof-school</td>\n",
              "      <td>15</td>\n",
              "      <td>Never-married</td>\n",
              "      <td>Prof-specialty</td>\n",
              "      <td>Own-child</td>\n",
              "      <td>Asian-Pac-Islander</td>\n",
              "      <td>M</td>\n",
              "      <td>0</td>\n",
              "      <td>0</td>\n",
              "      <td>40</td>\n",
              "      <td>US</td>\n",
              "      <td>0</td>\n",
              "    </tr>\n",
              "    <tr>\n",
              "      <th>4</th>\n",
              "      <td>4</td>\n",
              "      <td>18</td>\n",
              "      <td>Private</td>\n",
              "      <td>375515</td>\n",
              "      <td>11th</td>\n",
              "      <td>7</td>\n",
              "      <td>Never-married</td>\n",
              "      <td>Sales</td>\n",
              "      <td>Own-child</td>\n",
              "      <td>White</td>\n",
              "      <td>F</td>\n",
              "      <td>0</td>\n",
              "      <td>0</td>\n",
              "      <td>20</td>\n",
              "      <td>US</td>\n",
              "      <td>0</td>\n",
              "    </tr>\n",
              "  </tbody>\n",
              "</table>\n",
              "</div>"
            ],
            "text/plain": [
              "   ID  age work_type  ...  hrs_per_week nationality  target_income\n",
              "0   0   45   Private  ...            40          US              0\n",
              "1   1   23   Private  ...            30          US              0\n",
              "2   2   22   Private  ...            20       South              0\n",
              "3   3   27   Private  ...            40          US              0\n",
              "4   4   18   Private  ...            20          US              0\n",
              "\n",
              "[5 rows x 16 columns]"
            ]
          },
          "metadata": {},
          "execution_count": 100
        }
      ]
    },
    {
      "cell_type": "code",
      "metadata": {
        "id": "v_J50KMI1Xnr",
        "colab": {
          "base_uri": "https://localhost:8080/",
          "height": 205
        },
        "outputId": "ebc8b291-b632-4c72-f764-516c68534bdb"
      },
      "source": [
        "df_test.head()"
      ],
      "execution_count": 101,
      "outputs": [
        {
          "output_type": "execute_result",
          "data": {
            "text/html": [
              "<div>\n",
              "<style scoped>\n",
              "    .dataframe tbody tr th:only-of-type {\n",
              "        vertical-align: middle;\n",
              "    }\n",
              "\n",
              "    .dataframe tbody tr th {\n",
              "        vertical-align: top;\n",
              "    }\n",
              "\n",
              "    .dataframe thead th {\n",
              "        text-align: right;\n",
              "    }\n",
              "</style>\n",
              "<table border=\"1\" class=\"dataframe\">\n",
              "  <thead>\n",
              "    <tr style=\"text-align: right;\">\n",
              "      <th></th>\n",
              "      <th>ID</th>\n",
              "      <th>age</th>\n",
              "      <th>work_type</th>\n",
              "      <th>final_weight</th>\n",
              "      <th>education</th>\n",
              "      <th>total_education_yrs</th>\n",
              "      <th>marital_state</th>\n",
              "      <th>job</th>\n",
              "      <th>status</th>\n",
              "      <th>ethnicity</th>\n",
              "      <th>sex</th>\n",
              "      <th>capital_gain</th>\n",
              "      <th>capital_loss</th>\n",
              "      <th>hrs_per_week</th>\n",
              "      <th>nationality</th>\n",
              "    </tr>\n",
              "  </thead>\n",
              "  <tbody>\n",
              "    <tr>\n",
              "      <th>0</th>\n",
              "      <td>25000</td>\n",
              "      <td>59</td>\n",
              "      <td>Self-emp-not-inc</td>\n",
              "      <td>104216</td>\n",
              "      <td>Prof-school</td>\n",
              "      <td>15</td>\n",
              "      <td>Married-civ-spouse</td>\n",
              "      <td>Sales</td>\n",
              "      <td>Husband</td>\n",
              "      <td>White</td>\n",
              "      <td>M</td>\n",
              "      <td>0</td>\n",
              "      <td>0</td>\n",
              "      <td>25</td>\n",
              "      <td>US</td>\n",
              "    </tr>\n",
              "    <tr>\n",
              "      <th>1</th>\n",
              "      <td>25001</td>\n",
              "      <td>41</td>\n",
              "      <td>Private</td>\n",
              "      <td>76625</td>\n",
              "      <td>HS-grad</td>\n",
              "      <td>9</td>\n",
              "      <td>Married-civ-spouse</td>\n",
              "      <td>Craft-repair</td>\n",
              "      <td>Husband</td>\n",
              "      <td>White</td>\n",
              "      <td>M</td>\n",
              "      <td>0</td>\n",
              "      <td>0</td>\n",
              "      <td>40</td>\n",
              "      <td>US</td>\n",
              "    </tr>\n",
              "    <tr>\n",
              "      <th>2</th>\n",
              "      <td>25002</td>\n",
              "      <td>66</td>\n",
              "      <td>Self-emp-not-inc</td>\n",
              "      <td>28061</td>\n",
              "      <td>7th-8th</td>\n",
              "      <td>4</td>\n",
              "      <td>Widowed</td>\n",
              "      <td>Farming-fishing</td>\n",
              "      <td>Unmarried</td>\n",
              "      <td>White</td>\n",
              "      <td>M</td>\n",
              "      <td>0</td>\n",
              "      <td>0</td>\n",
              "      <td>50</td>\n",
              "      <td>US</td>\n",
              "    </tr>\n",
              "    <tr>\n",
              "      <th>3</th>\n",
              "      <td>25003</td>\n",
              "      <td>29</td>\n",
              "      <td>Private</td>\n",
              "      <td>211299</td>\n",
              "      <td>Assoc-voc</td>\n",
              "      <td>11</td>\n",
              "      <td>Never-married</td>\n",
              "      <td>Sales</td>\n",
              "      <td>Not-in-family</td>\n",
              "      <td>Black</td>\n",
              "      <td>M</td>\n",
              "      <td>0</td>\n",
              "      <td>0</td>\n",
              "      <td>45</td>\n",
              "      <td>US</td>\n",
              "    </tr>\n",
              "    <tr>\n",
              "      <th>4</th>\n",
              "      <td>25004</td>\n",
              "      <td>35</td>\n",
              "      <td>Private</td>\n",
              "      <td>340110</td>\n",
              "      <td>Bachelors</td>\n",
              "      <td>13</td>\n",
              "      <td>Married-civ-spouse</td>\n",
              "      <td>Exec-managerial</td>\n",
              "      <td>Husband</td>\n",
              "      <td>White</td>\n",
              "      <td>M</td>\n",
              "      <td>0</td>\n",
              "      <td>1848</td>\n",
              "      <td>70</td>\n",
              "      <td>US</td>\n",
              "    </tr>\n",
              "  </tbody>\n",
              "</table>\n",
              "</div>"
            ],
            "text/plain": [
              "      ID  age         work_type  ...  capital_loss hrs_per_week  nationality\n",
              "0  25000   59  Self-emp-not-inc  ...             0           25           US\n",
              "1  25001   41           Private  ...             0           40           US\n",
              "2  25002   66  Self-emp-not-inc  ...             0           50           US\n",
              "3  25003   29           Private  ...             0           45           US\n",
              "4  25004   35           Private  ...          1848           70           US\n",
              "\n",
              "[5 rows x 15 columns]"
            ]
          },
          "metadata": {},
          "execution_count": 101
        }
      ]
    },
    {
      "cell_type": "code",
      "metadata": {
        "id": "lXS93HCj3vSV",
        "colab": {
          "base_uri": "https://localhost:8080/"
        },
        "outputId": "40729c96-ee12-43a3-d248-a295e370430b"
      },
      "source": [
        "print('Train shape:', df_train.shape)\n",
        "print('Test shape', df_test.shape)"
      ],
      "execution_count": 102,
      "outputs": [
        {
          "output_type": "stream",
          "name": "stdout",
          "text": [
            "Train shape: (25000, 16)\n",
            "Test shape (7561, 15)\n"
          ]
        }
      ]
    },
    {
      "cell_type": "markdown",
      "metadata": {
        "id": "Uox-3QVE3htz"
      },
      "source": [
        "## II. Data cleaning"
      ]
    },
    {
      "cell_type": "markdown",
      "metadata": {
        "id": "_iktP-F73-vM"
      },
      "source": [
        "### 1. Check the duplicated rows"
      ]
    },
    {
      "cell_type": "code",
      "metadata": {
        "id": "U03VaAA_1XqM",
        "colab": {
          "base_uri": "https://localhost:8080/",
          "height": 49
        },
        "outputId": "5dbc6c80-5e6b-43e0-a42a-cff4cdd46fb6"
      },
      "source": [
        "df_train[df_train.duplicated()]"
      ],
      "execution_count": 103,
      "outputs": [
        {
          "output_type": "execute_result",
          "data": {
            "text/html": [
              "<div>\n",
              "<style scoped>\n",
              "    .dataframe tbody tr th:only-of-type {\n",
              "        vertical-align: middle;\n",
              "    }\n",
              "\n",
              "    .dataframe tbody tr th {\n",
              "        vertical-align: top;\n",
              "    }\n",
              "\n",
              "    .dataframe thead th {\n",
              "        text-align: right;\n",
              "    }\n",
              "</style>\n",
              "<table border=\"1\" class=\"dataframe\">\n",
              "  <thead>\n",
              "    <tr style=\"text-align: right;\">\n",
              "      <th></th>\n",
              "      <th>ID</th>\n",
              "      <th>age</th>\n",
              "      <th>work_type</th>\n",
              "      <th>final_weight</th>\n",
              "      <th>education</th>\n",
              "      <th>total_education_yrs</th>\n",
              "      <th>marital_state</th>\n",
              "      <th>job</th>\n",
              "      <th>status</th>\n",
              "      <th>ethnicity</th>\n",
              "      <th>sex</th>\n",
              "      <th>capital_gain</th>\n",
              "      <th>capital_loss</th>\n",
              "      <th>hrs_per_week</th>\n",
              "      <th>nationality</th>\n",
              "      <th>target_income</th>\n",
              "    </tr>\n",
              "  </thead>\n",
              "  <tbody>\n",
              "  </tbody>\n",
              "</table>\n",
              "</div>"
            ],
            "text/plain": [
              "Empty DataFrame\n",
              "Columns: [ID, age, work_type, final_weight, education, total_education_yrs, marital_state, job, status, ethnicity, sex, capital_gain, capital_loss, hrs_per_week, nationality, target_income]\n",
              "Index: []"
            ]
          },
          "metadata": {},
          "execution_count": 103
        }
      ]
    },
    {
      "cell_type": "code",
      "metadata": {
        "id": "HUjzpbn53-Ak",
        "colab": {
          "base_uri": "https://localhost:8080/",
          "height": 49
        },
        "outputId": "2e9f23db-11f9-4bd3-a76d-9d4a765a4123"
      },
      "source": [
        "df_test[df_test.duplicated()]"
      ],
      "execution_count": 104,
      "outputs": [
        {
          "output_type": "execute_result",
          "data": {
            "text/html": [
              "<div>\n",
              "<style scoped>\n",
              "    .dataframe tbody tr th:only-of-type {\n",
              "        vertical-align: middle;\n",
              "    }\n",
              "\n",
              "    .dataframe tbody tr th {\n",
              "        vertical-align: top;\n",
              "    }\n",
              "\n",
              "    .dataframe thead th {\n",
              "        text-align: right;\n",
              "    }\n",
              "</style>\n",
              "<table border=\"1\" class=\"dataframe\">\n",
              "  <thead>\n",
              "    <tr style=\"text-align: right;\">\n",
              "      <th></th>\n",
              "      <th>ID</th>\n",
              "      <th>age</th>\n",
              "      <th>work_type</th>\n",
              "      <th>final_weight</th>\n",
              "      <th>education</th>\n",
              "      <th>total_education_yrs</th>\n",
              "      <th>marital_state</th>\n",
              "      <th>job</th>\n",
              "      <th>status</th>\n",
              "      <th>ethnicity</th>\n",
              "      <th>sex</th>\n",
              "      <th>capital_gain</th>\n",
              "      <th>capital_loss</th>\n",
              "      <th>hrs_per_week</th>\n",
              "      <th>nationality</th>\n",
              "    </tr>\n",
              "  </thead>\n",
              "  <tbody>\n",
              "  </tbody>\n",
              "</table>\n",
              "</div>"
            ],
            "text/plain": [
              "Empty DataFrame\n",
              "Columns: [ID, age, work_type, final_weight, education, total_education_yrs, marital_state, job, status, ethnicity, sex, capital_gain, capital_loss, hrs_per_week, nationality]\n",
              "Index: []"
            ]
          },
          "metadata": {},
          "execution_count": 104
        }
      ]
    },
    {
      "cell_type": "markdown",
      "metadata": {
        "id": "jM2-K8ya4N8s"
      },
      "source": [
        "**There is no dupplicated row in both training and test sets**"
      ]
    },
    {
      "cell_type": "markdown",
      "metadata": {
        "id": "yMruPYbn4WE2"
      },
      "source": [
        "### 2. Missing values"
      ]
    },
    {
      "cell_type": "code",
      "metadata": {
        "id": "O0s6839X3-Cz",
        "colab": {
          "base_uri": "https://localhost:8080/"
        },
        "outputId": "c3477bf6-7c8d-4e85-9d44-fe3105dba46d"
      },
      "source": [
        "df_train.isna().sum().sum()"
      ],
      "execution_count": 105,
      "outputs": [
        {
          "output_type": "execute_result",
          "data": {
            "text/plain": [
              "0"
            ]
          },
          "metadata": {},
          "execution_count": 105
        }
      ]
    },
    {
      "cell_type": "code",
      "metadata": {
        "id": "1S92ImE23-FF",
        "colab": {
          "base_uri": "https://localhost:8080/"
        },
        "outputId": "6275678b-f4e5-46d8-8671-0f66803924af"
      },
      "source": [
        "df_test.isna().sum().sum()"
      ],
      "execution_count": 106,
      "outputs": [
        {
          "output_type": "execute_result",
          "data": {
            "text/plain": [
              "0"
            ]
          },
          "metadata": {},
          "execution_count": 106
        }
      ]
    },
    {
      "cell_type": "markdown",
      "metadata": {
        "id": "EoDCcNRxLVSZ"
      },
      "source": [
        "Our dataset is completely clean. "
      ]
    },
    {
      "cell_type": "markdown",
      "metadata": {
        "id": "-3gEUuAs49jT"
      },
      "source": [
        "### III. Exploratory data analysis"
      ]
    },
    {
      "cell_type": "markdown",
      "metadata": {
        "id": "f3DDOfDW5A_7"
      },
      "source": [
        "### 1. Types of dataset"
      ]
    },
    {
      "cell_type": "code",
      "metadata": {
        "id": "n__k7LdF3-He",
        "colab": {
          "base_uri": "https://localhost:8080/",
          "height": 319
        },
        "outputId": "b3da2f2a-82c5-4b70-85d9-405681434d4d"
      },
      "source": [
        "plt.figure(figsize = (5,5))\n",
        "df_train.dtypes.value_counts().plot.pie()\n",
        "plt.title('Distribution of data types')\n",
        "plt.show()"
      ],
      "execution_count": 107,
      "outputs": [
        {
          "output_type": "display_data",
          "data": {
            "image/png": "[encoded data removed]",
            "text/plain": [
              "<Figure size 360x360 with 1 Axes>"
            ]
          },
          "metadata": {}
        }
      ]
    },
    {
      "cell_type": "markdown",
      "metadata": {
        "id": "XUWanzw95ePw"
      },
      "source": [
        "### 2. Target column"
      ]
    },
    {
      "cell_type": "code",
      "metadata": {
        "id": "h0xlxQ683-J8",
        "colab": {
          "base_uri": "https://localhost:8080/",
          "height": 332
        },
        "outputId": "01af3905-6335-4012-c577-16b818f9478d"
      },
      "source": [
        "plt.figure(figsize = (6,5))\n",
        "df_train['target_income'].value_counts().plot.bar()\n",
        "plt.title('Income distribution')\n",
        "plt.show()"
      ],
      "execution_count": 108,
      "outputs": [
        {
          "output_type": "display_data",
          "data": {
            "image/png": "[encoded data removed]",
            "text/plain": [
              "<Figure size 432x360 with 1 Axes>"
            ]
          },
          "metadata": {
            "needs_background": "light"
          }
        }
      ]
    },
    {
      "cell_type": "markdown",
      "metadata": {
        "id": "rta8CF0m64AY"
      },
      "source": [
        "## 3. Visualize other columns"
      ]
    },
    {
      "cell_type": "code",
      "metadata": {
        "id": "hLQCwbdT5icy"
      },
      "source": [
        "Cols = list(df_train.columns)\n",
        "Cols.remove('target_income')\n",
        "Cols.remove('ID')"
      ],
      "execution_count": 109,
      "outputs": []
    },
    {
      "cell_type": "code",
      "metadata": {
        "id": "jcGvlT5HS0Mp",
        "colab": {
          "base_uri": "https://localhost:8080/",
          "height": 1000
        },
        "outputId": "fca4388f-5c1a-4be2-ba4b-a02a2e62e9de"
      },
      "source": [
        "Cols_visu = ['work_type', 'education', 'total_education_yrs', 'marital_state', 'job', 'status', 'ethnicity', 'sex', 'hrs_per_week']\n",
        "\n",
        "for col in Cols_visu:\n",
        "    \n",
        "    if col == 'hrs_per_week':\n",
        "        plt.figure(figsize = (18, 5))\n",
        "        \n",
        "    df_train[col].value_counts().plot.bar()\n",
        "    plt.title(col)\n",
        "    plt.show()"
      ],
      "execution_count": 110,
      "outputs": [
        {
          "output_type": "display_data",
          "data": {
            "image/png": "[encoded data removed]",
            "text/plain": [
              "<Figure size 432x288 with 1 Axes>"
            ]
          },
          "metadata": {
            "needs_background": "light"
          }
        },
        {
          "output_type": "display_data",
          "data": {
            "image/png": "[encoded data removed]",
            "text/plain": [
              "<Figure size 432x288 with 1 Axes>"
            ]
          },
          "metadata": {
            "needs_background": "light"
          }
        },
        {
          "output_type": "display_data",
          "data": {
            "image/png": "[encoded data removed]",
            "text/plain": [
              "<Figure size 432x288 with 1 Axes>"
            ]
          },
          "metadata": {
            "needs_background": "light"
          }
        },
        {
          "output_type": "display_data",
          "data": {
            "image/png": "[encoded data removed]",
            "text/plain": [
              "<Figure size 432x288 with 1 Axes>"
            ]
          },
          "metadata": {
            "needs_background": "light"
          }
        },
        {
          "output_type": "display_data",
          "data": {
            "image/png": "[encoded data removed]",
            "text/plain": [
              "<Figure size 432x288 with 1 Axes>"
            ]
          },
          "metadata": {
            "needs_background": "light"
          }
        },
        {
          "output_type": "display_data",
          "data": {
            "image/png": "[encoded data removed]",
            "text/plain": [
              "<Figure size 432x288 with 1 Axes>"
            ]
          },
          "metadata": {
            "needs_background": "light"
          }
        },
        {
          "output_type": "display_data",
          "data": {
            "image/png": "[encoded data removed]",
            "text/plain": [
              "<Figure size 432x288 with 1 Axes>"
            ]
          },
          "metadata": {
            "needs_background": "light"
          }
        },
        {
          "output_type": "display_data",
          "data": {
            "image/png": "[encoded data removed]",
            "text/plain": [
              "<Figure size 432x288 with 1 Axes>"
            ]
          },
          "metadata": {
            "needs_background": "light"
          }
        },
        {
          "output_type": "display_data",
          "data": {
            "image/png": "[encoded data removed]",
            "text/plain": [
              "<Figure size 1296x360 with 1 Axes>"
            ]
          },
          "metadata": {
            "needs_background": "light"
          }
        }
      ]
    },
    {
      "cell_type": "markdown",
      "metadata": {
        "id": "q_j6P1MdXy-A"
      },
      "source": [
        "### Visualize the distribution of target in each category"
      ]
    },
    {
      "cell_type": "markdown",
      "metadata": {
        "id": "cSUyxiPZLVSb"
      },
      "source": [
        "**Income by work type**"
      ]
    },
    {
      "cell_type": "code",
      "metadata": {
        "id": "Ar3Rq5-DXtTR",
        "colab": {
          "base_uri": "https://localhost:8080/",
          "height": 374
        },
        "outputId": "a54c3e40-e56e-4ae4-86f8-d345d6b08560"
      },
      "source": [
        "group_work_type = df_train.groupby(['work_type', 'target_income'])\n",
        "group_work_type_df = group_work_type.size().unstack()\n",
        "group_work_type_df.plot(kind = 'barh', figsize = (10,6))\n",
        "plt.show()"
      ],
      "execution_count": 111,
      "outputs": [
        {
          "output_type": "display_data",
          "data": {
            "image/png": "[encoded data removed]",
            "text/plain": [
              "<Figure size 720x432 with 1 Axes>"
            ]
          },
          "metadata": {
            "needs_background": "light"
          }
        }
      ]
    },
    {
      "cell_type": "markdown",
      "metadata": {
        "id": "VAHcDXfAYm7t"
      },
      "source": [
        "**Income by education**"
      ]
    },
    {
      "cell_type": "code",
      "metadata": {
        "id": "yNN34pYQYm9z",
        "colab": {
          "base_uri": "https://localhost:8080/",
          "height": 374
        },
        "outputId": "70b531ba-8115-457b-cff0-5ff28f14bded"
      },
      "source": [
        "group_edu = df_train.groupby(['education', 'target_income'])\n",
        "group_edu_df = group_edu.size().unstack()\n",
        "group_edu_df.plot(kind = 'barh', figsize = (10,6))\n",
        "plt.show()"
      ],
      "execution_count": 112,
      "outputs": [
        {
          "output_type": "display_data",
          "data": {
            "image/png": "[encoded data removed]",
            "text/plain": [
              "<Figure size 720x432 with 1 Axes>"
            ]
          },
          "metadata": {
            "needs_background": "light"
          }
        }
      ]
    },
    {
      "cell_type": "markdown",
      "metadata": {
        "id": "9pWqO0KNLVSc"
      },
      "source": [
        "***This figure shows the higher education you have, the better income you get. The probability to get high income when you just finish 9th class is very small.***"
      ]
    },
    {
      "cell_type": "markdown",
      "metadata": {
        "id": "JYgmXY9KYnEA"
      },
      "source": [
        "**Income by merital state**"
      ]
    },
    {
      "cell_type": "code",
      "metadata": {
        "id": "a37jjnu3LVSc",
        "colab": {
          "base_uri": "https://localhost:8080/",
          "height": 374
        },
        "outputId": "3d9fa9f1-1cd7-4ec1-d7eb-dd220c307b52"
      },
      "source": [
        "group_mari = df_train.groupby(['marital_state', 'target_income'])\n",
        "group_mari_df = group_mari.size().unstack()\n",
        "group_mari_df.plot(kind = 'barh', figsize = (8,6))\n",
        "plt.show()"
      ],
      "execution_count": 113,
      "outputs": [
        {
          "output_type": "display_data",
          "data": {
            "image/png": "[encoded data removed]",
            "text/plain": [
              "<Figure size 576x432 with 1 Axes>"
            ]
          },
          "metadata": {
            "needs_background": "light"
          }
        }
      ]
    },
    {
      "cell_type": "markdown",
      "metadata": {
        "id": "Gz8I6BhSLVSc"
      },
      "source": [
        "The proportion of group 1 (income > 50k) in the group \"Married-civ-spouse\" is much larger than in other groups. "
      ]
    },
    {
      "cell_type": "markdown",
      "metadata": {
        "id": "hRQRHfnqLVSc"
      },
      "source": [
        "**Income by status**"
      ]
    },
    {
      "cell_type": "code",
      "metadata": {
        "id": "f0AOiQ7ULVSc",
        "colab": {
          "base_uri": "https://localhost:8080/",
          "height": 374
        },
        "outputId": "d05ca05c-2b48-40b3-fa01-dfd29ea343bb"
      },
      "source": [
        "group_status = df_train.groupby(['status', 'target_income'])\n",
        "group_status_df = group_status.size().unstack()\n",
        "group_status_df.plot(kind = 'barh', figsize = (8,6))\n",
        "plt.show()"
      ],
      "execution_count": 114,
      "outputs": [
        {
          "output_type": "display_data",
          "data": {
            "image/png": "[encoded data removed]",
            "text/plain": [
              "<Figure size 576x432 with 1 Axes>"
            ]
          },
          "metadata": {
            "needs_background": "light"
          }
        }
      ]
    },
    {
      "cell_type": "markdown",
      "metadata": {
        "id": "X04KsyP5LVSd"
      },
      "source": [
        "**Income by job**"
      ]
    },
    {
      "cell_type": "code",
      "metadata": {
        "scrolled": true,
        "id": "7uC6zQ-oLVSd",
        "colab": {
          "base_uri": "https://localhost:8080/",
          "height": 374
        },
        "outputId": "c3ccef32-68cf-4343-9866-59782cee4d92"
      },
      "source": [
        "group_jobs = df_train.groupby(['job', 'target_income'])\n",
        "group_jobs_df = group_jobs.size().unstack()\n",
        "group_jobs_df.plot(kind = 'barh', figsize = (10,6))\n",
        "plt.show()"
      ],
      "execution_count": 115,
      "outputs": [
        {
          "output_type": "display_data",
          "data": {
            "image/png": "[encoded data removed]",
            "text/plain": [
              "<Figure size 720x432 with 1 Axes>"
            ]
          },
          "metadata": {
            "needs_background": "light"
          }
        }
      ]
    },
    {
      "cell_type": "markdown",
      "metadata": {
        "id": "ExeNjj0kLVSd"
      },
      "source": [
        "**Income by ethnicity**"
      ]
    },
    {
      "cell_type": "code",
      "metadata": {
        "id": "nmFotpluLVSd",
        "colab": {
          "base_uri": "https://localhost:8080/",
          "height": 478
        },
        "outputId": "6c076fe8-2ecc-4db5-f10f-4ce79a31d6dc"
      },
      "source": [
        "group_eth = df_train.groupby(['ethnicity', 'target_income'])\n",
        "group_eth_df = group_eth.size().unstack()\n",
        "group_eth_df.plot(kind = 'bar', figsize = (8,6))\n",
        "plt.show()"
      ],
      "execution_count": 116,
      "outputs": [
        {
          "output_type": "display_data",
          "data": {
            "image/png": "[encoded data removed]",
            "text/plain": [
              "<Figure size 576x432 with 1 Axes>"
            ]
          },
          "metadata": {
            "needs_background": "light"
          }
        }
      ]
    },
    {
      "cell_type": "markdown",
      "metadata": {
        "id": "oINUIa-jLVSd"
      },
      "source": [
        "**Income by sex**"
      ]
    },
    {
      "cell_type": "code",
      "metadata": {
        "id": "Z3smyKpnLVSd",
        "colab": {
          "base_uri": "https://localhost:8080/",
          "height": 387
        },
        "outputId": "a9ffbaf9-f187-4bfa-8e16-8d131243c7d7"
      },
      "source": [
        "group_s = df_train.groupby(['sex', 'target_income'])\n",
        "group_s_df = group_s.size().unstack()\n",
        "group_s_df.plot(kind = 'bar', figsize = (8,6))\n",
        "plt.show()"
      ],
      "execution_count": 117,
      "outputs": [
        {
          "output_type": "display_data",
          "data": {
            "image/png": "[encoded data removed]",
            "text/plain": [
              "<Figure size 576x432 with 1 Axes>"
            ]
          },
          "metadata": {
            "needs_background": "light"
          }
        }
      ]
    },
    {
      "cell_type": "markdown",
      "metadata": {
        "id": "g_MX1UlQLVSd"
      },
      "source": [
        "**Correlation between variables**"
      ]
    },
    {
      "cell_type": "code",
      "metadata": {
        "id": "agRELP70LVSd",
        "colab": {
          "base_uri": "https://localhost:8080/",
          "height": 536
        },
        "outputId": "e7a49e64-f1a7-45b2-93c4-112286011341"
      },
      "source": [
        "plt.figure(figsize = (8,8))\n",
        "sns.heatmap(df_train.corr(), square = True, annot = False)\n",
        "plt\n",
        "plt.show()"
      ],
      "execution_count": 118,
      "outputs": [
        {
          "output_type": "display_data",
          "data": {
            "image/png": "[encoded data removed]",
            "text/plain": [
              "<Figure size 576x576 with 2 Axes>"
            ]
          },
          "metadata": {
            "needs_background": "light"
          }
        }
      ]
    },
    {
      "cell_type": "markdown",
      "metadata": {
        "id": "gnd-dOQpLVSd"
      },
      "source": [
        "**From this figure, we can see that the income is highly correlated to some variables as \"age\", \"total_education_yrs\". The correlations between income and \"final_weight\", \"job\", \"ethnicity\", \"nationality\" are nearly zeros.**"
      ]
    },
    {
      "cell_type": "markdown",
      "metadata": {
        "id": "BkKkLnJyVmJ1"
      },
      "source": [
        "## IV. Data preprocessing"
      ]
    },
    {
      "cell_type": "markdown",
      "metadata": {
        "id": "RdFkP6brVvw5"
      },
      "source": [
        "###  Encoding some categorical columns"
      ]
    },
    {
      "cell_type": "code",
      "metadata": {
        "id": "TuUSG0L_LVSe"
      },
      "source": [
        "from sklearn.preprocessing import LabelEncoder"
      ],
      "execution_count": 119,
      "outputs": []
    },
    {
      "cell_type": "code",
      "metadata": {
        "id": "rApIptAQVluE"
      },
      "source": [
        "Cols_encode = ['work_type', 'education', 'marital_state', 'job', 'status', 'ethnicity', 'sex', 'nationality']\n",
        "\n",
        "for col in Cols_encode:\n",
        "    le = LabelEncoder()\n",
        "    df_train[col] = le.fit_transform(df_train[col])\n",
        "    df_test[col] = le.transform(df_test[col])"
      ],
      "execution_count": 120,
      "outputs": []
    },
    {
      "cell_type": "code",
      "metadata": {
        "id": "WmMbrW5RYmKd",
        "scrolled": true,
        "colab": {
          "base_uri": "https://localhost:8080/",
          "height": 205
        },
        "outputId": "e47cebca-4efa-4307-a82e-4176c37094c5"
      },
      "source": [
        "df_train.head()"
      ],
      "execution_count": 121,
      "outputs": [
        {
          "output_type": "execute_result",
          "data": {
            "text/html": [
              "<div>\n",
              "<style scoped>\n",
              "    .dataframe tbody tr th:only-of-type {\n",
              "        vertical-align: middle;\n",
              "    }\n",
              "\n",
              "    .dataframe tbody tr th {\n",
              "        vertical-align: top;\n",
              "    }\n",
              "\n",
              "    .dataframe thead th {\n",
              "        text-align: right;\n",
              "    }\n",
              "</style>\n",
              "<table border=\"1\" class=\"dataframe\">\n",
              "  <thead>\n",
              "    <tr style=\"text-align: right;\">\n",
              "      <th></th>\n",
              "      <th>ID</th>\n",
              "      <th>age</th>\n",
              "      <th>work_type</th>\n",
              "      <th>final_weight</th>\n",
              "      <th>education</th>\n",
              "      <th>total_education_yrs</th>\n",
              "      <th>marital_state</th>\n",
              "      <th>job</th>\n",
              "      <th>status</th>\n",
              "      <th>ethnicity</th>\n",
              "      <th>sex</th>\n",
              "      <th>capital_gain</th>\n",
              "      <th>capital_loss</th>\n",
              "      <th>hrs_per_week</th>\n",
              "      <th>nationality</th>\n",
              "      <th>target_income</th>\n",
              "    </tr>\n",
              "  </thead>\n",
              "  <tbody>\n",
              "    <tr>\n",
              "      <th>0</th>\n",
              "      <td>0</td>\n",
              "      <td>45</td>\n",
              "      <td>4</td>\n",
              "      <td>175925</td>\n",
              "      <td>11</td>\n",
              "      <td>9</td>\n",
              "      <td>2</td>\n",
              "      <td>3</td>\n",
              "      <td>0</td>\n",
              "      <td>4</td>\n",
              "      <td>1</td>\n",
              "      <td>0</td>\n",
              "      <td>0</td>\n",
              "      <td>40</td>\n",
              "      <td>39</td>\n",
              "      <td>0</td>\n",
              "    </tr>\n",
              "    <tr>\n",
              "      <th>1</th>\n",
              "      <td>1</td>\n",
              "      <td>23</td>\n",
              "      <td>4</td>\n",
              "      <td>113601</td>\n",
              "      <td>15</td>\n",
              "      <td>10</td>\n",
              "      <td>4</td>\n",
              "      <td>6</td>\n",
              "      <td>3</td>\n",
              "      <td>4</td>\n",
              "      <td>1</td>\n",
              "      <td>0</td>\n",
              "      <td>0</td>\n",
              "      <td>30</td>\n",
              "      <td>39</td>\n",
              "      <td>0</td>\n",
              "    </tr>\n",
              "    <tr>\n",
              "      <th>2</th>\n",
              "      <td>2</td>\n",
              "      <td>22</td>\n",
              "      <td>4</td>\n",
              "      <td>112137</td>\n",
              "      <td>15</td>\n",
              "      <td>10</td>\n",
              "      <td>4</td>\n",
              "      <td>10</td>\n",
              "      <td>2</td>\n",
              "      <td>1</td>\n",
              "      <td>0</td>\n",
              "      <td>0</td>\n",
              "      <td>0</td>\n",
              "      <td>20</td>\n",
              "      <td>35</td>\n",
              "      <td>0</td>\n",
              "    </tr>\n",
              "    <tr>\n",
              "      <th>3</th>\n",
              "      <td>3</td>\n",
              "      <td>27</td>\n",
              "      <td>4</td>\n",
              "      <td>153078</td>\n",
              "      <td>14</td>\n",
              "      <td>15</td>\n",
              "      <td>4</td>\n",
              "      <td>10</td>\n",
              "      <td>3</td>\n",
              "      <td>1</td>\n",
              "      <td>1</td>\n",
              "      <td>0</td>\n",
              "      <td>0</td>\n",
              "      <td>40</td>\n",
              "      <td>39</td>\n",
              "      <td>0</td>\n",
              "    </tr>\n",
              "    <tr>\n",
              "      <th>4</th>\n",
              "      <td>4</td>\n",
              "      <td>18</td>\n",
              "      <td>4</td>\n",
              "      <td>375515</td>\n",
              "      <td>1</td>\n",
              "      <td>7</td>\n",
              "      <td>4</td>\n",
              "      <td>12</td>\n",
              "      <td>3</td>\n",
              "      <td>4</td>\n",
              "      <td>0</td>\n",
              "      <td>0</td>\n",
              "      <td>0</td>\n",
              "      <td>20</td>\n",
              "      <td>39</td>\n",
              "      <td>0</td>\n",
              "    </tr>\n",
              "  </tbody>\n",
              "</table>\n",
              "</div>"
            ],
            "text/plain": [
              "   ID  age  work_type  ...  hrs_per_week  nationality  target_income\n",
              "0   0   45          4  ...            40           39              0\n",
              "1   1   23          4  ...            30           39              0\n",
              "2   2   22          4  ...            20           35              0\n",
              "3   3   27          4  ...            40           39              0\n",
              "4   4   18          4  ...            20           39              0\n",
              "\n",
              "[5 rows x 16 columns]"
            ]
          },
          "metadata": {},
          "execution_count": 121
        }
      ]
    },
    {
      "cell_type": "code",
      "metadata": {
        "id": "6UToKcSbLVSe"
      },
      "source": [
        "X_train = df_train.drop(['ID', 'target_income'], axis = 1).values\n",
        "y_train = df_train['target_income']\n",
        "\n",
        "X_test = df_test.drop('ID', axis = 1).values"
      ],
      "execution_count": 122,
      "outputs": []
    },
    {
      "cell_type": "code",
      "metadata": {
        "id": "yRgryNOZLVSe",
        "colab": {
          "base_uri": "https://localhost:8080/"
        },
        "outputId": "bdcff40b-069a-48d3-9d7f-7487008425f2"
      },
      "source": [
        "print('Train shape', X_train.shape)\n",
        "print('Test shape', X_test.shape)"
      ],
      "execution_count": 123,
      "outputs": [
        {
          "output_type": "stream",
          "name": "stdout",
          "text": [
            "Train shape (25000, 14)\n",
            "Test shape (7561, 14)\n"
          ]
        }
      ]
    },
    {
      "cell_type": "markdown",
      "metadata": {
        "id": "ds3cXddOLVSe"
      },
      "source": [
        "## V. PCA"
      ]
    },
    {
      "cell_type": "code",
      "metadata": {
        "id": "x8VvXJHALVSe"
      },
      "source": [
        "from sklearn.preprocessing import StandardScaler\n",
        "from sklearn.decomposition import PCA\n",
        "from pca_plot_tools import display_explained_var_ratio"
      ],
      "execution_count": 124,
      "outputs": []
    },
    {
      "cell_type": "markdown",
      "metadata": {
        "id": "P44qYYiZLVSf"
      },
      "source": [
        "**Data normalization**"
      ]
    },
    {
      "cell_type": "code",
      "metadata": {
        "id": "-tCnVkU5LVSf"
      },
      "source": [
        "scaler = StandardScaler()\n",
        "X_train_std = scaler.fit_transform(X_train)\n",
        "X_test_std = scaler.transform(X_test)"
      ],
      "execution_count": 125,
      "outputs": []
    },
    {
      "cell_type": "code",
      "metadata": {
        "id": "nwu75SiALVSf",
        "colab": {
          "base_uri": "https://localhost:8080/",
          "height": 279
        },
        "outputId": "be5fec94-cdc2-4a0f-cb77-d5ca4a91c6fc"
      },
      "source": [
        "pca = PCA().fit(X_train_std)\n",
        "\n",
        "var_ratio = pca.explained_variance_ratio_*100\n",
        "display_explained_var_ratio(var_ratio)"
      ],
      "execution_count": 126,
      "outputs": [
        {
          "output_type": "display_data",
          "data": {
            "image/png": "[encoded data removed]",
            "text/plain": [
              "<Figure size 432x288 with 1 Axes>"
            ]
          },
          "metadata": {
            "needs_background": "light"
          }
        }
      ]
    },
    {
      "cell_type": "markdown",
      "metadata": {
        "id": "LZLZYT4BLVSf"
      },
      "source": [
        "## VI. Classification"
      ]
    },
    {
      "cell_type": "code",
      "metadata": {
        "id": "XPpghwMqLVSf"
      },
      "source": [
        "from sklearn.model_selection import GridSearchCV\n",
        "from sklearn.model_selection import train_test_split\n",
        "from imblearn.over_sampling import RandomOverSampler, SMOTE\n",
        "from imblearn.under_sampling import RandomUnderSampler\n",
        "from sklearn.preprocessing import StandardScaler\n",
        "\n",
        "from sklearn.metrics import accuracy_score, balanced_accuracy_score, precision_score, recall_score, f1_score \n",
        "\n",
        "import timeit"
      ],
      "execution_count": 127,
      "outputs": []
    },
    {
      "cell_type": "code",
      "metadata": {
        "id": "nvNoR4IGLVSf"
      },
      "source": [
        "#from classif_tools import save_classif\n",
        "\n",
        "rst_path = os.getcwd() + '/' + 'Classif_rst/'\n",
        "#os.mkdir(rst_path)"
      ],
      "execution_count": 128,
      "outputs": []
    },
    {
      "cell_type": "markdown",
      "metadata": {
        "id": "EXXHsgfKLVSf"
      },
      "source": [
        "### Data preparation for classification"
      ]
    },
    {
      "cell_type": "code",
      "metadata": {
        "id": "nTokjuhSLVSf"
      },
      "source": [
        "X0 = X_train[np.where(y_train == 0)]\n",
        "X1 = X_train[np.where(y_train == 1)]\n",
        "\n",
        "y0 = np.zeros(X0.shape[0])\n",
        "y1 = np.ones(X1.shape[0])"
      ],
      "execution_count": 129,
      "outputs": []
    },
    {
      "cell_type": "markdown",
      "metadata": {
        "id": "KRnWvdszLVSf"
      },
      "source": [
        "**Train/val splitting**"
      ]
    },
    {
      "cell_type": "code",
      "metadata": {
        "id": "uLwrTvmFLVSf"
      },
      "source": [
        "t_size = 0.25\n",
        "rand_state = 12\n",
        "\n",
        "X0_train, X0_val, y0_train, y0_val = train_test_split(X0, y0, test_size = t_size, random_state = rand_state)\n",
        "X1_train, X1_val, y1_train, y1_val = train_test_split(X1, y1, test_size = t_size, random_state = rand_state)"
      ],
      "execution_count": 130,
      "outputs": []
    },
    {
      "cell_type": "code",
      "metadata": {
        "id": "iZrNVijewyXo",
        "colab": {
          "base_uri": "https://localhost:8080/"
        },
        "outputId": "98a8fd16-dd32-4b31-9965-711d48f57af4"
      },
      "source": [
        "X0_train.shape"
      ],
      "execution_count": 131,
      "outputs": [
        {
          "output_type": "execute_result",
          "data": {
            "text/plain": [
              "(14260, 14)"
            ]
          },
          "metadata": {},
          "execution_count": 131
        }
      ]
    },
    {
      "cell_type": "code",
      "metadata": {
        "id": "YPyZ-Ae6w1j4",
        "colab": {
          "base_uri": "https://localhost:8080/"
        },
        "outputId": "6b949ec9-1e5c-4159-8df3-b0d159c49bbc"
      },
      "source": [
        "X1_train.shape"
      ],
      "execution_count": 132,
      "outputs": [
        {
          "output_type": "execute_result",
          "data": {
            "text/plain": [
              "(4489, 14)"
            ]
          },
          "metadata": {},
          "execution_count": 132
        }
      ]
    },
    {
      "cell_type": "code",
      "metadata": {
        "id": "Ebcvy__SLVSf"
      },
      "source": [
        "X_train = np.concatenate((X0_train, X1_train))\n",
        "X_val = np.concatenate((X0_val, X1_val))\n",
        "\n",
        "y_train = np.concatenate((y0_train, y1_train))\n",
        "y_val = np.concatenate((y0_val, y1_val))"
      ],
      "execution_count": 133,
      "outputs": []
    },
    {
      "cell_type": "markdown",
      "metadata": {
        "id": "9AIHQnoJLVSf"
      },
      "source": [
        "**Data balancing for training set**"
      ]
    },
    {
      "cell_type": "code",
      "metadata": {
        "id": "AVKnWb0NLVSf"
      },
      "source": [
        "over_sampler = SMOTE(random_state = rand_state)\n",
        "X_train, y_train = over_sampler.fit_resample(X_train, y_train)"
      ],
      "execution_count": 134,
      "outputs": []
    },
    {
      "cell_type": "markdown",
      "metadata": {
        "id": "U1q7xJBVLVSg"
      },
      "source": [
        "**Data normalization**"
      ]
    },
    {
      "cell_type": "code",
      "metadata": {
        "id": "p8n4fnY6LVSg"
      },
      "source": [
        "scaler = StandardScaler()\n",
        "X_train_scaled = scaler.fit_transform(X_train)\n",
        "X_val_scaled = scaler.transform(X_val)"
      ],
      "execution_count": 135,
      "outputs": []
    },
    {
      "cell_type": "code",
      "metadata": {
        "id": "O9HftRc9LVSg"
      },
      "source": [
        "val_info = {}\n",
        "val_info['y_val'] = y_val\n",
        "\n",
        "np.save(rst_path + 'val_info.npy', val_info)"
      ],
      "execution_count": 136,
      "outputs": []
    },
    {
      "cell_type": "markdown",
      "metadata": {
        "id": "1RWKSOTTLVSg"
      },
      "source": [
        "### 1. Logistic regression"
      ]
    },
    {
      "cell_type": "code",
      "metadata": {
        "id": "yvmpQymBLVSg"
      },
      "source": [
        "from sklearn.linear_model import LogisticRegression\n",
        "param_grid_LR = {'C': [1, 2, 3]}\n",
        "model_LR = LogisticRegression"
      ],
      "execution_count": 137,
      "outputs": []
    },
    {
      "cell_type": "code",
      "metadata": {
        "id": "WE_PAf0ULVSg"
      },
      "source": [
        "grid_search_LR = GridSearchCV(estimator = model_LR(),\n",
        "                             param_grid = param_grid_LR, \n",
        "                             cv = 5, \n",
        "                             verbose = 1)"
      ],
      "execution_count": 138,
      "outputs": []
    },
    {
      "cell_type": "code",
      "metadata": {
        "id": "JLGND8ziLVSg",
        "colab": {
          "base_uri": "https://localhost:8080/"
        },
        "outputId": "98f83961-66e3-4282-e5c3-9778fcbcdff2"
      },
      "source": [
        "t0 = timeit.default_timer()\n",
        "grid_search_LR.fit(X_train_scaled, y_train)\n",
        "y_pred_LR = grid_search_LR.predict(X_val_scaled)\n",
        "t1 = timeit.default_timer()\n",
        "t = t1 - t0\n",
        "\n",
        "rst_LR = {}\n",
        "rst_LR['y_pred_LR'] = y_pred_LR\n",
        "rst_LR['best_score'] = grid_search_LR.best_score_\n",
        "rst_LR['best_params'] = grid_search_LR.best_params_\n",
        "rst_LR['time'] = t \n",
        "\n",
        "np.save(rst_path + 'rst_LR.npy', rst_LR)"
      ],
      "execution_count": 139,
      "outputs": [
        {
          "output_type": "stream",
          "name": "stdout",
          "text": [
            "Fitting 5 folds for each of 3 candidates, totalling 15 fits\n"
          ]
        }
      ]
    },
    {
      "cell_type": "markdown",
      "metadata": {
        "id": "mQqzUHaALVSg"
      },
      "source": [
        "### 2. Support vector machine"
      ]
    },
    {
      "cell_type": "code",
      "metadata": {
        "id": "mSbFMjpzLVSg"
      },
      "source": [
        "from sklearn.svm import SVC\n",
        "param_grid_SVM = [{'C': [5, 10, 20, 40], 'kernel': ['rbf']}]\n",
        "model_SVM = SVC"
      ],
      "execution_count": 140,
      "outputs": []
    },
    {
      "cell_type": "code",
      "metadata": {
        "id": "9eYDDwwfLVSg"
      },
      "source": [
        "grid_search_SVM = GridSearchCV(estimator = model_SVM(),\n",
        "                           param_grid = param_grid_SVM,\n",
        "                           cv = 5,\n",
        "                           verbose = 1\n",
        "                          )"
      ],
      "execution_count": 141,
      "outputs": []
    },
    {
      "cell_type": "code",
      "metadata": {
        "id": "vLpYGAX-5iho",
        "colab": {
          "base_uri": "https://localhost:8080/"
        },
        "outputId": "8e35d675-baf6-42d5-be28-41de933b9418"
      },
      "source": [
        "t0 = timeit.default_timer()\n",
        "grid_search_SVM.fit(X_train_scaled, y_train)\n",
        "y_pred_SVM = grid_search_SVM.predict(X_val_scaled)\n",
        "t1 = timeit.default_timer()\n",
        "t = t1 - t0\n",
        "\n",
        "rst_SVM = {}\n",
        "rst_SVM['y_pred_SVM'] = y_pred_SVM\n",
        "rst_SVM['best_score'] = grid_search_SVM.best_score_\n",
        "rst_SVM['best_params'] = grid_search_SVM.best_params_\n",
        "rst_SVM['time'] = t\n",
        "np.save(rst_path + 'rst_SVM.npy', rst_SVM)"
      ],
      "execution_count": 142,
      "outputs": [
        {
          "output_type": "stream",
          "name": "stdout",
          "text": [
            "Fitting 5 folds for each of 4 candidates, totalling 20 fits\n"
          ]
        }
      ]
    },
    {
      "cell_type": "markdown",
      "metadata": {
        "id": "Ab3Xght2LVSg"
      },
      "source": [
        "### 3. K-nearest neighbors"
      ]
    },
    {
      "cell_type": "code",
      "metadata": {
        "id": "sUK7VFj9LVSg"
      },
      "source": [
        "from sklearn.neighbors import KNeighborsClassifier\n",
        "param_grid_knn = {'n_neighbors' : [6, 8, 10, 12]}\n",
        "model_knn = KNeighborsClassifier"
      ],
      "execution_count": 143,
      "outputs": []
    },
    {
      "cell_type": "code",
      "metadata": {
        "id": "F8CTSmqsLVSh"
      },
      "source": [
        "grid_search_knn = GridSearchCV(estimator = model_knn(),\n",
        "                              param_grid = param_grid_knn, \n",
        "                              cv = 5, \n",
        "                              verbose = 1)"
      ],
      "execution_count": 144,
      "outputs": []
    },
    {
      "cell_type": "code",
      "metadata": {
        "id": "iwl3PQ3VLVSh",
        "colab": {
          "base_uri": "https://localhost:8080/"
        },
        "outputId": "16214ec9-e174-42b9-a2cf-15a579496b86"
      },
      "source": [
        "t0 = timeit.default_timer()\n",
        "grid_search_knn.fit(X_train_scaled, y_train)\n",
        "y_pred_knn = grid_search_knn.predict(X_val_scaled)\n",
        "t1 = timeit.default_timer()\n",
        "t = t1 - t0\n",
        "\n",
        "rst_knn = {}\n",
        "rst_knn['y_pred_knn'] = y_pred_knn\n",
        "rst_knn['best_score'] = grid_search_knn.best_score_\n",
        "rst_knn['best_params'] = grid_search_knn.best_params_\n",
        "rst_knn['time'] = t \n",
        "\n",
        "np.save(rst_path + 'rst_knn.npy', rst_knn)"
      ],
      "execution_count": 145,
      "outputs": [
        {
          "output_type": "stream",
          "name": "stdout",
          "text": [
            "Fitting 5 folds for each of 4 candidates, totalling 20 fits\n"
          ]
        }
      ]
    },
    {
      "cell_type": "markdown",
      "metadata": {
        "id": "Z4zXqPp1LVSh"
      },
      "source": [
        "### 4. Linear Discriminant Analysis"
      ]
    },
    {
      "cell_type": "code",
      "metadata": {
        "id": "ugHqR7Z_LVSh"
      },
      "source": [
        "from sklearn.discriminant_analysis import LinearDiscriminantAnalysis\n",
        "param_grid_LDA = {}\n",
        "model_LDA = LinearDiscriminantAnalysis"
      ],
      "execution_count": 146,
      "outputs": []
    },
    {
      "cell_type": "code",
      "metadata": {
        "id": "gL34Q31wLVSh"
      },
      "source": [
        "grid_search_LDA = GridSearchCV(estimator = model_LDA(), \n",
        "                               param_grid = param_grid_LDA, \n",
        "                               cv = 5, \n",
        "                               verbose = 1)"
      ],
      "execution_count": 147,
      "outputs": []
    },
    {
      "cell_type": "code",
      "metadata": {
        "id": "ftR6UlnbLVSh",
        "colab": {
          "base_uri": "https://localhost:8080/"
        },
        "outputId": "403fcc4c-3b42-420c-86bf-81b77f87a972"
      },
      "source": [
        "t0 = timeit.default_timer()\n",
        "grid_search_LDA.fit(X_train_scaled, y_train)\n",
        "y_pred_LDA = grid_search_LDA.predict(X_val_scaled)\n",
        "t1 = timeit.default_timer()\n",
        "t = t1 - t0\n",
        "\n",
        "rst_LDA = {}\n",
        "rst_LDA['y_pred_LDA'] = y_pred_LDA\n",
        "rst_LDA['best_score'] = grid_search_LDA.best_score_\n",
        "rst_LDA['best_params'] = grid_search_LDA.best_params_\n",
        "rst_LDA['time'] = t\n",
        "\n",
        "np.save(rst_path + 'rst_LDA.npy', rst_LDA)"
      ],
      "execution_count": 148,
      "outputs": [
        {
          "output_type": "stream",
          "name": "stdout",
          "text": [
            "Fitting 5 folds for each of 1 candidates, totalling 5 fits\n"
          ]
        }
      ]
    },
    {
      "cell_type": "markdown",
      "metadata": {
        "id": "bCwEUdI4LVSh"
      },
      "source": [
        "### 5. Decision tree classifier"
      ]
    },
    {
      "cell_type": "code",
      "metadata": {
        "id": "xGwau7_3LVSh"
      },
      "source": [
        "from sklearn.tree import DecisionTreeClassifier\n",
        "param_grid_DT = {'criterion': ['gini', 'entropy']}\n",
        "model_DT = DecisionTreeClassifier"
      ],
      "execution_count": 149,
      "outputs": []
    },
    {
      "cell_type": "code",
      "metadata": {
        "id": "qzhbBiXQLVSh"
      },
      "source": [
        "grid_search_DT = GridSearchCV(estimator = model_DT(), \n",
        "                              param_grid = param_grid_DT,\n",
        "                              cv = 5, \n",
        "                              verbose = 1)"
      ],
      "execution_count": 150,
      "outputs": []
    },
    {
      "cell_type": "code",
      "metadata": {
        "id": "d9qxhNxYLVSh",
        "colab": {
          "base_uri": "https://localhost:8080/"
        },
        "outputId": "0034d9a7-4915-456d-cb6e-7dfc336f1ad2"
      },
      "source": [
        "t0 = timeit.default_timer()\n",
        "grid_search_DT.fit(X_train_scaled, y_train)\n",
        "y_pred_DT = grid_search_DT.predict(X_val_scaled)\n",
        "t1 = timeit.default_timer()\n",
        "t = t1 - t0\n",
        "\n",
        "rst_DT = {}\n",
        "rst_DT['y_pred_DT'] = y_pred_DT\n",
        "rst_DT['best_score'] = grid_search_DT.best_score_\n",
        "rst_DT['best_params'] = grid_search_DT.best_params_\n",
        "rst_DT['time'] = t \n",
        "\n",
        "np.save(rst_path + 'rst_DT.npy', rst_DT)"
      ],
      "execution_count": 151,
      "outputs": [
        {
          "output_type": "stream",
          "name": "stdout",
          "text": [
            "Fitting 5 folds for each of 2 candidates, totalling 10 fits\n"
          ]
        }
      ]
    },
    {
      "cell_type": "markdown",
      "metadata": {
        "id": "DPl6rURBLVSh"
      },
      "source": [
        "### 6. Gaussian Naive Bayes Classifier"
      ]
    },
    {
      "cell_type": "code",
      "metadata": {
        "id": "zb5q3VFzLVSh"
      },
      "source": [
        "from sklearn.naive_bayes import GaussianNB\n",
        "param_grid_NB = {}\n",
        "model_NB = GaussianNB"
      ],
      "execution_count": 152,
      "outputs": []
    },
    {
      "cell_type": "code",
      "metadata": {
        "id": "wNWDC_xaLVSi"
      },
      "source": [
        "grid_search_NB = GridSearchCV(estimator = model_NB(),\n",
        "                              param_grid = param_grid_NB, \n",
        "                              cv = 5, \n",
        "                              verbose = 1)"
      ],
      "execution_count": 153,
      "outputs": []
    },
    {
      "cell_type": "code",
      "metadata": {
        "id": "9Q3Vd5nNLVSi",
        "colab": {
          "base_uri": "https://localhost:8080/"
        },
        "outputId": "48937290-a50b-4967-eb18-7638f9edbe55"
      },
      "source": [
        "t0 = timeit.default_timer()\n",
        "grid_search_NB.fit(X_train_scaled, y_train)\n",
        "y_pred_NB = grid_search_NB.predict(X_val_scaled)\n",
        "t1 = timeit.default_timer()\n",
        "t = t1 - t0 \n",
        "\n",
        "rst_NB = {}\n",
        "rst_NB['y_pred_NB'] = y_pred_NB\n",
        "rst_NB['best_score'] = grid_search_NB.best_score_\n",
        "rst_NB['best_params'] = grid_search_NB.best_params_\n",
        "rst_NB['time'] = t \n",
        "\n",
        "np.save(rst_path + 'rst_NB.npy', rst_NB)"
      ],
      "execution_count": 154,
      "outputs": [
        {
          "output_type": "stream",
          "name": "stdout",
          "text": [
            "Fitting 5 folds for each of 1 candidates, totalling 5 fits\n"
          ]
        }
      ]
    },
    {
      "cell_type": "markdown",
      "metadata": {
        "id": "bsfEwomOLVSi"
      },
      "source": [
        "### 7. Stochastic Gradient Descent Classifier"
      ]
    },
    {
      "cell_type": "code",
      "metadata": {
        "id": "lyhdBI07LVSi"
      },
      "source": [
        "from sklearn.linear_model import SGDClassifier\n",
        "param_grid_SGD = {\n",
        "    \"penalty\" : ['l2', 'l1', 'elasticnet']\n",
        "}\n",
        "model_SGD = SGDClassifier"
      ],
      "execution_count": 155,
      "outputs": []
    },
    {
      "cell_type": "code",
      "metadata": {
        "id": "Z5BI6lGRLVSi"
      },
      "source": [
        "grid_search_SGD = GridSearchCV(estimator = model_SGD(),\n",
        "                               param_grid = param_grid_SGD,\n",
        "                               cv = 5, \n",
        "                               verbose = 2)"
      ],
      "execution_count": 156,
      "outputs": []
    },
    {
      "cell_type": "code",
      "metadata": {
        "id": "NiejBBCRLVSi",
        "colab": {
          "base_uri": "https://localhost:8080/"
        },
        "outputId": "edae3ad7-5d3f-490e-87a0-f74c8487bb5d"
      },
      "source": [
        "t0 = timeit.default_timer()\n",
        "grid_search_SGD.fit(X_train_scaled, y_train)\n",
        "y_pred_SGD = grid_search_SGD.predict(X_val_scaled)\n",
        "t1 = timeit.default_timer()\n",
        "t = t1 - t0 \n",
        "\n",
        "rst_SGD = {}\n",
        "rst_SGD['y_pred_SGD'] = y_pred_SGD\n",
        "rst_SGD['best_score'] = grid_search_SGD.best_score_\n",
        "rst_SGD['best_params'] = grid_search_SGD.best_params_\n",
        "rst_SGD['time'] = t \n",
        "\n",
        "np.save(rst_path + 'rst_SGD.npy', rst_SGD)"
      ],
      "execution_count": 157,
      "outputs": [
        {
          "output_type": "stream",
          "name": "stdout",
          "text": [
            "Fitting 5 folds for each of 3 candidates, totalling 15 fits\n",
            "[CV] END .........................................penalty=l2; total time=   0.1s\n",
            "[CV] END .........................................penalty=l2; total time=   0.1s\n",
            "[CV] END .........................................penalty=l2; total time=   0.1s\n",
            "[CV] END .........................................penalty=l2; total time=   0.1s\n",
            "[CV] END .........................................penalty=l2; total time=   0.1s\n",
            "[CV] END .........................................penalty=l1; total time=   0.2s\n",
            "[CV] END .........................................penalty=l1; total time=   0.2s\n",
            "[CV] END .........................................penalty=l1; total time=   0.2s\n",
            "[CV] END .........................................penalty=l1; total time=   0.2s\n",
            "[CV] END .........................................penalty=l1; total time=   0.2s\n",
            "[CV] END .................................penalty=elasticnet; total time=   0.2s\n",
            "[CV] END .................................penalty=elasticnet; total time=   0.2s\n",
            "[CV] END .................................penalty=elasticnet; total time=   0.2s\n",
            "[CV] END .................................penalty=elasticnet; total time=   0.2s\n",
            "[CV] END .................................penalty=elasticnet; total time=   0.2s\n"
          ]
        }
      ]
    },
    {
      "cell_type": "markdown",
      "metadata": {
        "id": "B37LOTmhLVSi"
      },
      "source": [
        "### 8. Random forest classifier"
      ]
    },
    {
      "cell_type": "code",
      "metadata": {
        "id": "Y3b10xgQLVSj"
      },
      "source": [
        "from sklearn.ensemble import RandomForestClassifier\n",
        "param_grid_RF = {\n",
        "    \"criterion\": ['gini', 'entropy']\n",
        "}\n",
        "model_RF = RandomForestClassifier"
      ],
      "execution_count": 158,
      "outputs": []
    },
    {
      "cell_type": "code",
      "metadata": {
        "id": "YOVH1GHQLVSj"
      },
      "source": [
        "grid_search_RF = GridSearchCV(estimator = model_RF(),\n",
        "                              param_grid = param_grid_RF,\n",
        "                              cv = 5, \n",
        "                              verbose = 2)"
      ],
      "execution_count": 159,
      "outputs": []
    },
    {
      "cell_type": "code",
      "metadata": {
        "id": "ml4wY446LVSj",
        "colab": {
          "base_uri": "https://localhost:8080/"
        },
        "outputId": "2985094d-689a-499b-a8c2-4723cd2f94b2"
      },
      "source": [
        "t0 = timeit.default_timer()\n",
        "grid_search_RF.fit(X_train_scaled, y_train)\n",
        "y_pred_RF = grid_search_RF.predict(X_val_scaled)\n",
        "t1 = timeit.default_timer()\n",
        "t = t1 - t0 \n",
        "\n",
        "rst_RF = {}\n",
        "rst_RF['y_pred_RF'] = y_pred_RF\n",
        "rst_RF['best_score'] = grid_search_RF.best_score_\n",
        "rst_RF['best_params'] = grid_search_RF.best_params_\n",
        "rst_RF['time'] = t \n",
        "\n",
        "np.save(rst_path + 'rst_RF.npy', rst_RF)"
      ],
      "execution_count": 160,
      "outputs": [
        {
          "output_type": "stream",
          "name": "stdout",
          "text": [
            "Fitting 5 folds for each of 2 candidates, totalling 10 fits\n",
            "[CV] END .....................................criterion=gini; total time=   2.3s\n",
            "[CV] END .....................................criterion=gini; total time=   2.3s\n",
            "[CV] END .....................................criterion=gini; total time=   2.3s\n",
            "[CV] END .....................................criterion=gini; total time=   2.3s\n",
            "[CV] END .....................................criterion=gini; total time=   2.3s\n",
            "[CV] END ..................................criterion=entropy; total time=   2.8s\n",
            "[CV] END ..................................criterion=entropy; total time=   2.9s\n",
            "[CV] END ..................................criterion=entropy; total time=   3.0s\n",
            "[CV] END ..................................criterion=entropy; total time=   3.0s\n",
            "[CV] END ..................................criterion=entropy; total time=   3.0s\n"
          ]
        }
      ]
    },
    {
      "cell_type": "markdown",
      "metadata": {
        "id": "PRSCYFaZLVSj"
      },
      "source": [
        "### 9. Gradient Boosting Classifier"
      ]
    },
    {
      "cell_type": "code",
      "metadata": {
        "id": "UZQUtLs5LVSj"
      },
      "source": [
        "from sklearn.ensemble import GradientBoostingClassifier\n",
        "param_grid_GBC = {}\n",
        "model_GBC = GradientBoostingClassifier"
      ],
      "execution_count": 161,
      "outputs": []
    },
    {
      "cell_type": "code",
      "metadata": {
        "id": "XtNrnTtULVSj"
      },
      "source": [
        "grid_search_GBC = GridSearchCV(estimator = model_GBC(),\n",
        "                               param_grid = param_grid_GBC, \n",
        "                               cv = 5, \n",
        "                               verbose = 1)"
      ],
      "execution_count": 162,
      "outputs": []
    },
    {
      "cell_type": "code",
      "metadata": {
        "id": "8uJPkGogLVSj",
        "colab": {
          "base_uri": "https://localhost:8080/"
        },
        "outputId": "f59246d1-b781-462f-a649-774d09bc7391"
      },
      "source": [
        "t0 = timeit.default_timer()\n",
        "grid_search_GBC.fit(X_train_scaled, y_train)\n",
        "y_pred_GBC = grid_search_GBC.predict(X_val_scaled)\n",
        "t1 = timeit.default_timer()\n",
        "t = t1 - t0 \n",
        "\n",
        "rst_GBC = {}\n",
        "rst_GBC['y_pred_GBC'] = y_pred_GBC\n",
        "rst_GBC['best_score'] = grid_search_GBC.best_score_\n",
        "rst_GBC['best_params'] = grid_search_GBC.best_params_\n",
        "rst_GBC['time'] = t \n",
        "np.save(rst_path + 'rst_GBC.npy', rst_GBC)"
      ],
      "execution_count": 163,
      "outputs": [
        {
          "output_type": "stream",
          "name": "stdout",
          "text": [
            "Fitting 5 folds for each of 1 candidates, totalling 5 fits\n"
          ]
        }
      ]
    },
    {
      "cell_type": "markdown",
      "metadata": {
        "id": "CNCHxsk5LVSj"
      },
      "source": [
        "### 10. AdaBoost "
      ]
    },
    {
      "cell_type": "code",
      "metadata": {
        "id": "wff5c93ALVSj"
      },
      "source": [
        "from sklearn.ensemble import AdaBoostClassifier\n",
        "param_grid_Ada = {}\n",
        "model_Ada = AdaBoostClassifier"
      ],
      "execution_count": 164,
      "outputs": []
    },
    {
      "cell_type": "code",
      "metadata": {
        "id": "i7CmJ18rLVSj"
      },
      "source": [
        "grid_search_Ada = GridSearchCV(estimator = model_Ada(),\n",
        "                               param_grid = param_grid_Ada,\n",
        "                               cv = 5, \n",
        "                               verbose = 1)"
      ],
      "execution_count": 165,
      "outputs": []
    },
    {
      "cell_type": "code",
      "metadata": {
        "id": "WEYQS1-0LVSj",
        "colab": {
          "base_uri": "https://localhost:8080/"
        },
        "outputId": "bf911ab3-b47d-4733-8296-76c92015789f"
      },
      "source": [
        "t0 = timeit.default_timer()\n",
        "grid_search_Ada.fit(X_train_scaled, y_train)\n",
        "y_pred_Ada = grid_search_Ada.predict(X_val_scaled)\n",
        "t1 = timeit.default_timer()\n",
        "t = t1 - t0 \n",
        "\n",
        "rst_Ada = {}\n",
        "rst_Ada['y_pred_Ada'] = y_pred_Ada\n",
        "rst_Ada['best_score'] = grid_search_Ada.best_score_\n",
        "rst_Ada['best_params'] = grid_search_Ada.best_params_\n",
        "rst_Ada['time'] = t \n",
        "\n",
        "np.save(rst_path + 'rst_Ada.npy', rst_Ada)"
      ],
      "execution_count": 166,
      "outputs": [
        {
          "output_type": "stream",
          "name": "stdout",
          "text": [
            "Fitting 5 folds for each of 1 candidates, totalling 5 fits\n"
          ]
        }
      ]
    },
    {
      "cell_type": "markdown",
      "metadata": {
        "id": "2GxHPrwiLVSj"
      },
      "source": [
        "### 11. XGBoost (Extreme Gradient Boosting)"
      ]
    },
    {
      "cell_type": "code",
      "metadata": {
        "id": "ZFGK71w8LVSk"
      },
      "source": [
        "from xgboost import XGBClassifier\n",
        "param_grid_XGB = {}\n",
        "model_XGB = XGBClassifier"
      ],
      "execution_count": 167,
      "outputs": []
    },
    {
      "cell_type": "code",
      "metadata": {
        "id": "zLfMN29KLVSk"
      },
      "source": [
        "grid_search_XGB = GridSearchCV(estimator = model_XGB(),\n",
        "                               param_grid = param_grid_XGB,\n",
        "                               cv = 5, \n",
        "                               verbose = 1)"
      ],
      "execution_count": 168,
      "outputs": []
    },
    {
      "cell_type": "code",
      "metadata": {
        "id": "7ZTC-m_TLVSk",
        "colab": {
          "base_uri": "https://localhost:8080/"
        },
        "outputId": "bf54a836-fbcf-478e-d79f-4809d6b57022"
      },
      "source": [
        "t0 = timeit.default_timer()\n",
        "grid_search_XGB.fit(X_train_scaled, y_train)\n",
        "y_pred_XGB = grid_search_XGB.predict(X_val_scaled)\n",
        "t1 = timeit.default_timer()\n",
        "t = t1 - t0 \n",
        "\n",
        "rst_XGB = {}\n",
        "rst_XGB['y_pred_XGB'] = y_pred_XGB\n",
        "rst_XGB['best_score'] = grid_search_XGB.best_score_\n",
        "rst_XGB['best_params'] = grid_search_XGB.best_params_\n",
        "rst_XGB['time'] = t \n",
        "\n",
        "np.save(rst_path + 'rst_XGB.npy', rst_XGB)"
      ],
      "execution_count": 169,
      "outputs": [
        {
          "output_type": "stream",
          "name": "stdout",
          "text": [
            "Fitting 5 folds for each of 1 candidates, totalling 5 fits\n"
          ]
        }
      ]
    },
    {
      "cell_type": "markdown",
      "metadata": {
        "id": "hUhhGSSkLVSk"
      },
      "source": [
        "### 12. Histogram-based gradient boosting"
      ]
    },
    {
      "cell_type": "code",
      "metadata": {
        "id": "uS7I_XrBLVSk"
      },
      "source": [
        "from sklearn.experimental import enable_hist_gradient_boosting\n",
        "from sklearn.ensemble import HistGradientBoostingClassifier\n",
        "model_HGB = HistGradientBoostingClassifier\n",
        "param_grid_HGB = {}"
      ],
      "execution_count": 170,
      "outputs": []
    },
    {
      "cell_type": "code",
      "metadata": {
        "id": "awIanyfFLVSk"
      },
      "source": [
        "grid_search_HGB = GridSearchCV(estimator = model_HGB(),\n",
        "                               param_grid = param_grid_HGB,\n",
        "                               cv = 5, \n",
        "                               verbose = 1)"
      ],
      "execution_count": 171,
      "outputs": []
    },
    {
      "cell_type": "code",
      "metadata": {
        "id": "9RoPSFu0LVSk",
        "colab": {
          "base_uri": "https://localhost:8080/"
        },
        "outputId": "4e57779e-100a-422e-975e-634d7c847f95"
      },
      "source": [
        "t0 = timeit.default_timer()\n",
        "grid_search_HGB.fit(X_train_scaled, y_train)\n",
        "y_pred_HGB = grid_search_HGB.predict(X_val_scaled)\n",
        "t1 = timeit.default_timer()\n",
        "t = t1 - t0 \n",
        "\n",
        "rst_HGB = {}\n",
        "rst_HGB['y_pred_HGB'] = y_pred_HGB\n",
        "rst_HGB['best_score'] = grid_search_HGB.best_score_\n",
        "rst_HGB['best_params'] = grid_search_HGB.best_params_\n",
        "rst_HGB['time'] = t \n",
        "\n",
        "np.save(rst_path + 'rst_HGB.npy', rst_HGB)"
      ],
      "execution_count": 172,
      "outputs": [
        {
          "output_type": "stream",
          "name": "stdout",
          "text": [
            "Fitting 5 folds for each of 1 candidates, totalling 5 fits\n"
          ]
        }
      ]
    },
    {
      "cell_type": "markdown",
      "metadata": {
        "id": "04ohCRgbLVSk"
      },
      "source": [
        "### 13. LightBoosting"
      ]
    },
    {
      "cell_type": "code",
      "metadata": {
        "id": "Ell8OBUzLVSk"
      },
      "source": [
        "from lightgbm import LGBMClassifier\n",
        "model_LGBM = LGBMClassifier\n",
        "param_grid_LGBM = {}"
      ],
      "execution_count": 173,
      "outputs": []
    },
    {
      "cell_type": "code",
      "metadata": {
        "id": "p6hxONbNLVSk"
      },
      "source": [
        "grid_search_LGBM = GridSearchCV(estimator = model_LGBM(),\n",
        "                                param_grid = param_grid_LGBM,\n",
        "                                cv = 5,\n",
        "                                verbose = 1)"
      ],
      "execution_count": 174,
      "outputs": []
    },
    {
      "cell_type": "code",
      "metadata": {
        "id": "zimxcbcMLVSk",
        "colab": {
          "base_uri": "https://localhost:8080/"
        },
        "outputId": "e59a8a33-752d-443a-eea0-2159cc126234"
      },
      "source": [
        "t0 = timeit.default_timer()\n",
        "grid_search_LGBM.fit(X_train_scaled, y_train)\n",
        "y_pred_LGBM = grid_search_LGBM.predict(X_val_scaled)\n",
        "t1 = timeit.default_timer()\n",
        "t = t1 - t0 \n",
        "\n",
        "rst_LGBM = {}\n",
        "rst_LGBM['y_pred_LGBM'] = y_pred_LGBM\n",
        "rst_LGBM['best_score'] = grid_search_LGBM.best_score_\n",
        "rst_LGBM['best_params'] = grid_search_LGBM.best_params_\n",
        "rst_LGBM['time'] = t \n",
        "\n",
        "np.save(rst_path + 'rst_LGBM.npy', rst_LGBM)"
      ],
      "execution_count": 175,
      "outputs": [
        {
          "output_type": "stream",
          "name": "stdout",
          "text": [
            "Fitting 5 folds for each of 1 candidates, totalling 5 fits\n"
          ]
        }
      ]
    },
    {
      "cell_type": "markdown",
      "metadata": {
        "id": "nM41D4uALVSl"
      },
      "source": [
        "### 14. CatBoost Classifier "
      ]
    },
    {
      "cell_type": "code",
      "metadata": {
        "id": "pHxUfPubrA5Y",
        "colab": {
          "base_uri": "https://localhost:8080/"
        },
        "outputId": "7cbd099e-0166-4e8a-db3c-94a0a4da2099"
      },
      "source": [
        "!pip install catboost"
      ],
      "execution_count": 176,
      "outputs": [
        {
          "output_type": "stream",
          "name": "stdout",
          "text": [
            "Requirement already satisfied: catboost in /usr/local/lib/python3.7/dist-packages (1.0.3)\n",
            "Requirement already satisfied: graphviz in /usr/local/lib/python3.7/dist-packages (from catboost) (0.10.1)\n",
            "Requirement already satisfied: scipy in /usr/local/lib/python3.7/dist-packages (from catboost) (1.4.1)\n",
            "Requirement already satisfied: matplotlib in /usr/local/lib/python3.7/dist-packages (from catboost) (3.2.2)\n",
            "Requirement already satisfied: pandas>=0.24.0 in /usr/local/lib/python3.7/dist-packages (from catboost) (1.1.5)\n",
            "Requirement already satisfied: six in /usr/local/lib/python3.7/dist-packages (from catboost) (1.15.0)\n",
            "Requirement already satisfied: numpy>=1.16.0 in /usr/local/lib/python3.7/dist-packages (from catboost) (1.19.5)\n",
            "Requirement already satisfied: plotly in /usr/local/lib/python3.7/dist-packages (from catboost) (4.4.1)\n",
            "Requirement already satisfied: python-dateutil>=2.7.3 in /usr/local/lib/python3.7/dist-packages (from pandas>=0.24.0->catboost) (2.8.2)\n",
            "Requirement already satisfied: pytz>=2017.2 in /usr/local/lib/python3.7/dist-packages (from pandas>=0.24.0->catboost) (2018.9)\n",
            "Requirement already satisfied: kiwisolver>=1.0.1 in /usr/local/lib/python3.7/dist-packages (from matplotlib->catboost) (1.3.2)\n",
            "Requirement already satisfied: cycler>=0.10 in /usr/local/lib/python3.7/dist-packages (from matplotlib->catboost) (0.11.0)\n",
            "Requirement already satisfied: pyparsing!=2.0.4,!=2.1.2,!=2.1.6,>=2.0.1 in /usr/local/lib/python3.7/dist-packages (from matplotlib->catboost) (2.4.7)\n",
            "Requirement already satisfied: retrying>=1.3.3 in /usr/local/lib/python3.7/dist-packages (from plotly->catboost) (1.3.3)\n"
          ]
        }
      ]
    },
    {
      "cell_type": "code",
      "metadata": {
        "id": "EI5ImLODLVSl"
      },
      "source": [
        "from catboost import CatBoostClassifier\n",
        "param_grid_Cat = {}\n",
        "model_Cat = CatBoostClassifier"
      ],
      "execution_count": 177,
      "outputs": []
    },
    {
      "cell_type": "code",
      "metadata": {
        "id": "nM60glIjLVSl"
      },
      "source": [
        "grid_search_Cat = GridSearchCV(estimator = model_Cat(),\n",
        "                               param_grid = param_grid_Cat,\n",
        "                               cv = 5,\n",
        "                               verbose = 1)"
      ],
      "execution_count": 178,
      "outputs": []
    },
    {
      "cell_type": "code",
      "metadata": {
        "id": "TB-lTojgLVSl"
      },
      "source": [
        "t0 = timeit.default_timer()\n",
        "grid_search_Cat.fit(X_train_scaled, y_train)\n",
        "y_pred_Cat = grid_search_Cat.predict(X_val_scaled)\n",
        "t1 = timeit.default_timer()\n",
        "t = t1 - t0 \n",
        "\n",
        "rst_Cat = {}\n",
        "rst_Cat['y_pred_Cat'] = y_pred_Cat\n",
        "rst_Cat['best_score'] = grid_search_Cat.best_score_\n",
        "rst_Cat['best_params'] = grid_search_Cat.best_params_\n",
        "rst_Cat['time'] = t \n",
        "\n",
        "np.save(rst_path + 'rst_Cat.npy', rst_Cat)"
      ],
      "execution_count": null,
      "outputs": []
    },
    {
      "cell_type": "markdown",
      "metadata": {
        "id": "1VihI9GF0kv0"
      },
      "source": [
        "## VII. Compare the classification results of all algorithms"
      ]
    },
    {
      "cell_type": "code",
      "metadata": {
        "id": "1XlKl5xY9spc"
      },
      "source": [
        "Model_names = ['LR', 'SVM', 'knn', 'LDA', 'DT', 'NB', 'SGD', 'RF', 'GBC', 'Ada', 'XGB', 'HGB', 'LGBM', 'Cat']\n",
        "Acc_scores = []\n",
        "B_acc_scores = []\n",
        "f1_scores = []\n",
        "\n",
        "for name in Model_names:\n",
        "  rst = np.load(rst_path + 'rst_' + name + '.npy', allow_pickle = True).item()\n",
        "  n = 'y_pred_' + name\n",
        "  y_val_pred = rst[n]\n",
        "  acc = np.round(accuracy_score(y_val, y_val_pred), 3)\n",
        "  b_acc = np.round(balanced_accuracy_score(y_val, y_val_pred), 3)\n",
        "  f1 = np.round(f1_score(y_val, y_val_pred),3)\n",
        "\n",
        "  Acc_scores.append(acc)\n",
        "  B_acc_scores.append(b_acc)\n",
        "  f1_scores.append(f1)"
      ],
      "execution_count": 180,
      "outputs": []
    },
    {
      "cell_type": "code",
      "metadata": {
        "id": "_ikyqlan9srp"
      },
      "source": [
        "rst_df = {}\n",
        "rst_df['Models'] = Model_names\n",
        "rst_df['Accuracy score'] = Acc_scores\n",
        "rst_df['Balanced accuracy'] = B_acc_scores\n",
        "rst_df['f1 score'] = f1_scores"
      ],
      "execution_count": 181,
      "outputs": []
    },
    {
      "cell_type": "code",
      "metadata": {
        "id": "HG23HS9d-7wY"
      },
      "source": [
        "rst_df = pd.DataFrame(rst_df)"
      ],
      "execution_count": 182,
      "outputs": []
    },
    {
      "cell_type": "code",
      "metadata": {
        "id": "RWq1lyRI-7yk",
        "colab": {
          "base_uri": "https://localhost:8080/",
          "height": 486
        },
        "outputId": "06fde25b-defe-4d82-cfc0-ada24d89398b"
      },
      "source": [
        "rst_df.sort_values(by = 'Accuracy score', ascending= False)"
      ],
      "execution_count": 183,
      "outputs": [
        {
          "output_type": "execute_result",
          "data": {
            "text/html": [
              "<div>\n",
              "<style scoped>\n",
              "    .dataframe tbody tr th:only-of-type {\n",
              "        vertical-align: middle;\n",
              "    }\n",
              "\n",
              "    .dataframe tbody tr th {\n",
              "        vertical-align: top;\n",
              "    }\n",
              "\n",
              "    .dataframe thead th {\n",
              "        text-align: right;\n",
              "    }\n",
              "</style>\n",
              "<table border=\"1\" class=\"dataframe\">\n",
              "  <thead>\n",
              "    <tr style=\"text-align: right;\">\n",
              "      <th></th>\n",
              "      <th>Models</th>\n",
              "      <th>Accuracy score</th>\n",
              "      <th>Balanced accuracy</th>\n",
              "      <th>f1 score</th>\n",
              "    </tr>\n",
              "  </thead>\n",
              "  <tbody>\n",
              "    <tr>\n",
              "      <th>13</th>\n",
              "      <td>Cat</td>\n",
              "      <td>0.863</td>\n",
              "      <td>0.812</td>\n",
              "      <td>0.714</td>\n",
              "    </tr>\n",
              "    <tr>\n",
              "      <th>12</th>\n",
              "      <td>LGBM</td>\n",
              "      <td>0.859</td>\n",
              "      <td>0.812</td>\n",
              "      <td>0.710</td>\n",
              "    </tr>\n",
              "    <tr>\n",
              "      <th>11</th>\n",
              "      <td>HGB</td>\n",
              "      <td>0.852</td>\n",
              "      <td>0.802</td>\n",
              "      <td>0.696</td>\n",
              "    </tr>\n",
              "    <tr>\n",
              "      <th>7</th>\n",
              "      <td>RF</td>\n",
              "      <td>0.846</td>\n",
              "      <td>0.792</td>\n",
              "      <td>0.682</td>\n",
              "    </tr>\n",
              "    <tr>\n",
              "      <th>8</th>\n",
              "      <td>GBC</td>\n",
              "      <td>0.845</td>\n",
              "      <td>0.807</td>\n",
              "      <td>0.694</td>\n",
              "    </tr>\n",
              "    <tr>\n",
              "      <th>10</th>\n",
              "      <td>XGB</td>\n",
              "      <td>0.843</td>\n",
              "      <td>0.808</td>\n",
              "      <td>0.694</td>\n",
              "    </tr>\n",
              "    <tr>\n",
              "      <th>5</th>\n",
              "      <td>NB</td>\n",
              "      <td>0.834</td>\n",
              "      <td>0.743</td>\n",
              "      <td>0.622</td>\n",
              "    </tr>\n",
              "    <tr>\n",
              "      <th>9</th>\n",
              "      <td>Ada</td>\n",
              "      <td>0.823</td>\n",
              "      <td>0.804</td>\n",
              "      <td>0.675</td>\n",
              "    </tr>\n",
              "    <tr>\n",
              "      <th>1</th>\n",
              "      <td>SVM</td>\n",
              "      <td>0.820</td>\n",
              "      <td>0.802</td>\n",
              "      <td>0.671</td>\n",
              "    </tr>\n",
              "    <tr>\n",
              "      <th>2</th>\n",
              "      <td>knn</td>\n",
              "      <td>0.814</td>\n",
              "      <td>0.766</td>\n",
              "      <td>0.634</td>\n",
              "    </tr>\n",
              "    <tr>\n",
              "      <th>4</th>\n",
              "      <td>DT</td>\n",
              "      <td>0.803</td>\n",
              "      <td>0.755</td>\n",
              "      <td>0.617</td>\n",
              "    </tr>\n",
              "    <tr>\n",
              "      <th>0</th>\n",
              "      <td>LR</td>\n",
              "      <td>0.760</td>\n",
              "      <td>0.762</td>\n",
              "      <td>0.604</td>\n",
              "    </tr>\n",
              "    <tr>\n",
              "      <th>3</th>\n",
              "      <td>LDA</td>\n",
              "      <td>0.731</td>\n",
              "      <td>0.746</td>\n",
              "      <td>0.580</td>\n",
              "    </tr>\n",
              "    <tr>\n",
              "      <th>6</th>\n",
              "      <td>SGD</td>\n",
              "      <td>0.728</td>\n",
              "      <td>0.763</td>\n",
              "      <td>0.594</td>\n",
              "    </tr>\n",
              "  </tbody>\n",
              "</table>\n",
              "</div>"
            ],
            "text/plain": [
              "   Models  Accuracy score  Balanced accuracy  f1 score\n",
              "13    Cat           0.863              0.812     0.714\n",
              "12   LGBM           0.859              0.812     0.710\n",
              "11    HGB           0.852              0.802     0.696\n",
              "7      RF           0.846              0.792     0.682\n",
              "8     GBC           0.845              0.807     0.694\n",
              "10    XGB           0.843              0.808     0.694\n",
              "5      NB           0.834              0.743     0.622\n",
              "9     Ada           0.823              0.804     0.675\n",
              "1     SVM           0.820              0.802     0.671\n",
              "2     knn           0.814              0.766     0.634\n",
              "4      DT           0.803              0.755     0.617\n",
              "0      LR           0.760              0.762     0.604\n",
              "3     LDA           0.731              0.746     0.580\n",
              "6     SGD           0.728              0.763     0.594"
            ]
          },
          "metadata": {},
          "execution_count": 183
        }
      ]
    },
    {
      "cell_type": "code",
      "metadata": {
        "id": "NyOPifedBryi",
        "colab": {
          "base_uri": "https://localhost:8080/",
          "height": 269
        },
        "outputId": "f04bd5c6-d34c-4dc6-bed4-4bceef4999e2"
      },
      "source": [
        "from sklearn.metrics import confusion_matrix\n",
        "M = confusion_matrix(y_val, y_pred_Cat)\n",
        "\n",
        "fig, ax = plt.subplots()\n",
        "ax.matshow(M, cmap = plt.cm.Blues)\n",
        "\n",
        "for i in range(2):\n",
        "    for j in range(2):\n",
        "        c = M[j,i]\n",
        "        ax.text(i, j, str(c), va='center', ha='center')"
      ],
      "execution_count": 184,
      "outputs": [
        {
          "output_type": "display_data",
          "data": {
            "image/png": "[encoded data removed]",
            "text/plain": [
              "<Figure size 432x288 with 1 Axes>"
            ]
          },
          "metadata": {
            "needs_background": "light"
          }
        }
      ]
    },
    {
      "cell_type": "markdown",
      "metadata": {
        "id": "iPHuUjLv_8sY"
      },
      "source": [
        "From this result, we see that CatBoost and LightBoost are the two best algorithms in this case. Their accuracy are 86.3% and 85.9%, respectively. \n",
        "The balanced accuracy is smaller than accuracy score in almost cases (exception for Linear Regression, Schochastic Gradient Descent, Linear Discriminant Analysis). It means that the obsevations tend to be classified to the majority class. We can see that more clearly from the confusion matric obtained by AdaBoost algorithm. The mis-classified proportion of group 1 is 28.72%, which is larger than the one of group 0 (8.95%)."
      ]
    }
  ]
}